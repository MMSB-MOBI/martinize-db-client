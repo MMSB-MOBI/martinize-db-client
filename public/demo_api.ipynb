{
 "cells": [
  {
   "cell_type": "markdown",
   "id": "0c2cfe6c",
   "metadata": {},
   "source": [
    "## Demo api\n",
    "\n",
    "#### autor : Romuald Marin"
   ]
  },
  {
   "cell_type": "code",
   "execution_count": 1,
   "id": "92546907",
   "metadata": {},
   "outputs": [
    {
     "name": "stdout",
     "output_type": "stream",
     "text": [
      "{'0': {'alias': 'DAPA', 'name': 'di-C20:4-C22:5 PA (DAPA)', 'citation': 'Souza, P.C.T.; Alessandri, R.; Barnoud, J.; Thallmair, S.; Faustino, I.; Grünewald, F.; Patmanidis, I.; Abdizadeh, H.; Bruininks, B.M.H.;\\nWassenaar, T.A.; Kroon, P.C.; Melcr, J.; Nieto, V.; Corradi, V.; Khan, H.M.; Domański, J.; Javanainen, M.; Martinez-Seara, H.;\\nReuter, N.; Best, R.B.; Vattulainen, I.; Monticelli, L.; Periole, X.; Tieleman, D.P.; de Vries, A.H.; Marrink, S.J.;  Nature Methods\\n2021; 10.1038/s41592-021-01098-3', 'forcefield': 'martini3001', 'category': 'Lipids', 'version': ['1.0']}, '1': {'alias': 'DAPC', 'name': 'di-C20:4-C22:5 PC (DAPC)', 'citation': 'Souza, P.C.T.; Alessandri, R.; Barnoud, J.; Thallmair, S.; Faustino, I.; Grünewald, F.; Patmanidis, I.; Abdizadeh, H.; Bruininks, B.M.H.;\\nWassenaar, T.A.; Kroon, P.C.; Melcr, J.; Nieto, V.; Corradi, V.; Khan, H.M.; Domański, J.; Javanainen, M.; Martinez-Seara, H.;\\nReuter, N.; Best, R.B.; Vattulainen, I.; Monticelli, L.; Periole, X.; Tieleman, D.P.; de Vries, A.H.; Marrink, S.J.;  Nature Methods\\n2021; 10.1038/s41592-021-01098-3', 'forcefield': 'martini3001', 'category': 'Lipids', 'version': ['1.0']}, '2': {'alias': 'DAPE', 'name': 'di-C20:4-C22:5 PE (DAPE)', 'citation': 'Souza, P.C.T.; Alessandri, R.; Barnoud, J.; Thallmair, S.; Faustino, I.; Grünewald, F.; Patmanidis, I.; Abdizadeh, H.; Bruininks, B.M.H.;\\nWassenaar, T.A.; Kroon, P.C.; Melcr, J.; Nieto, V.; Corradi, V.; Khan, H.M.; Domański, J.; Javanainen, M.; Martinez-Seara, H.;\\nReuter, N.; Best, R.B.; Vattulainen, I.; Monticelli, L.; Periole, X.; Tieleman, D.P.; de Vries, A.H.; Marrink, S.J.;  Nature Methods\\n2021; 10.1038/s41592-021-01098-3', 'forcefield': 'martini3001', 'category': 'Lipids', 'version': ['1.0']}, '3': {'alias': 'DAPG', 'name': 'di-C20:4-C22:5 PG (DAPG)', 'citation': 'Souza, P.C.T.; Alessandri, R.; Barnoud, J.; Thallmair, S.; Faustino, I.; Grünewald, F.; Patmanidis, I.; Abdizadeh, H.; Bruininks, B.M.H.;\\nWassenaar, T.A.; Kroon, P.C.; Melcr, J.; Nieto, V.; Corradi, V.; Khan, H.M.; Domański, J.; Javanainen, M.; Martinez-Seara, H.;\\nReuter, N.; Best, R.B.; Vattulainen, I.; Monticelli, L.; Periole, X.; Tieleman, D.P.; de Vries, A.H.; Marrink, S.J.;  Nature Methods\\n2021; 10.1038/s41592-021-01098-3', 'forcefield': 'martini3001', 'category': 'Lipids', 'version': ['1.0']}, '4': {'alias': 'DAPS', 'name': 'di-C20:4-C22:5 PS (DAPS)', 'citation': 'Souza, P.C.T.; Alessandri, R.; Barnoud, J.; Thallmair, S.; Faustino, I.; Grünewald, F.; Patmanidis, I.; Abdizadeh, H.; Bruininks, B.M.H.;\\nWassenaar, T.A.; Kroon, P.C.; Melcr, J.; Nieto, V.; Corradi, V.; Khan, H.M.; Domański, J.; Javanainen, M.; Martinez-Seara, H.;\\nReuter, N.; Best, R.B.; Vattulainen, I.; Monticelli, L.; Periole, X.; Tieleman, D.P.; de Vries, A.H.; Marrink, S.J.;  Nature Methods\\n2021; 10.1038/s41592-021-01098-3', 'forcefield': 'martini3001', 'category': 'Lipids', 'version': ['1.0']}, '5': {'alias': 'DBPA', 'name': 'di-C20:0-C22:0 PA (DBPA)', 'citation': 'Souza, P.C.T.; Alessandri, R.; Barnoud, J.; Thallmair, S.; Faustino, I.; Grünewald, F.; Patmanidis, I.; Abdizadeh, H.; Bruininks, B.M.H.;\\nWassenaar, T.A.; Kroon, P.C.; Melcr, J.; Nieto, V.; Corradi, V.; Khan, H.M.; Domański, J.; Javanainen, M.; Martinez-Seara, H.;\\nReuter, N.; Best, R.B.; Vattulainen, I.; Monticelli, L.; Periole, X.; Tieleman, D.P.; de Vries, A.H.; Marrink, S.J.;  Nature Methods\\n2021; 10.1038/s41592-021-01098-3', 'forcefield': 'martini3001', 'category': 'Lipids', 'version': ['1.0']}, '6': {'alias': 'DBPC', 'name': 'di-C20:0-C22:0 PC (DBPC)', 'citation': 'Souza, P.C.T.; Alessandri, R.; Barnoud, J.; Thallmair, S.; Faustino, I.; Grünewald, F.; Patmanidis, I.; Abdizadeh, H.; Bruininks, B.M.H.;\\nWassenaar, T.A.; Kroon, P.C.; Melcr, J.; Nieto, V.; Corradi, V.; Khan, H.M.; Domański, J.; Javanainen, M.; Martinez-Seara, H.;\\nReuter, N.; Best, R.B.; Vattulainen, I.; Monticelli, L.; Periole, X.; Tieleman, D.P.; de Vries, A.H.; Marrink, S.J.;  Nature Methods\\n2021; 10.1038/s41592-021-01098-3', 'forcefield': 'martini3001', 'category': 'Lipids', 'version': ['1.0']}, '7': {'alias': 'DBPE', 'name': 'di-C20:0-C22:0 PE (DBPE)', 'citation': 'Souza, P.C.T.; Alessandri, R.; Barnoud, J.; Thallmair, S.; Faustino, I.; Grünewald, F.; Patmanidis, I.; Abdizadeh, H.; Bruininks, B.M.H.;\\nWassenaar, T.A.; Kroon, P.C.; Melcr, J.; Nieto, V.; Corradi, V.; Khan, H.M.; Domański, J.; Javanainen, M.; Martinez-Seara, H.;\\nReuter, N.; Best, R.B.; Vattulainen, I.; Monticelli, L.; Periole, X.; Tieleman, D.P.; de Vries, A.H.; Marrink, S.J.;  Nature Methods\\n2021; 10.1038/s41592-021-01098-3', 'forcefield': 'martini3001', 'category': 'Lipids', 'version': ['1.0']}, '8': {'alias': 'DBPG', 'name': 'di-C20:0-C22:0 PG (DBPG)', 'citation': 'Souza, P.C.T.; Alessandri, R.; Barnoud, J.; Thallmair, S.; Faustino, I.; Grünewald, F.; Patmanidis, I.; Abdizadeh, H.; Bruininks, B.M.H.;\\nWassenaar, T.A.; Kroon, P.C.; Melcr, J.; Nieto, V.; Corradi, V.; Khan, H.M.; Domański, J.; Javanainen, M.; Martinez-Seara, H.;\\nReuter, N.; Best, R.B.; Vattulainen, I.; Monticelli, L.; Periole, X.; Tieleman, D.P.; de Vries, A.H.; Marrink, S.J.;  Nature Methods\\n2021; 10.1038/s41592-021-01098-3', 'forcefield': 'martini3001', 'category': 'Lipids', 'version': ['1.0']}, '9': {'alias': 'DBPS', 'name': 'di-C20:0-C22:0 PS (DBPS)', 'citation': 'Souza, P.C.T.; Alessandri, R.; Barnoud, J.; Thallmair, S.; Faustino, I.; Grünewald, F.; Patmanidis, I.; Abdizadeh, H.; Bruininks, B.M.H.;\\nWassenaar, T.A.; Kroon, P.C.; Melcr, J.; Nieto, V.; Corradi, V.; Khan, H.M.; Domański, J.; Javanainen, M.; Martinez-Seara, H.;\\nReuter, N.; Best, R.B.; Vattulainen, I.; Monticelli, L.; Periole, X.; Tieleman, D.P.; de Vries, A.H.; Marrink, S.J.;  Nature Methods\\n2021; 10.1038/s41592-021-01098-3', 'forcefield': 'martini3001', 'category': 'Lipids', 'version': ['1.0']}, '10': {'alias': 'DFPA', 'name': 'di-C16:3-C18:3 PA (DFPA)', 'citation': 'Souza, P.C.T.; Alessandri, R.; Barnoud, J.; Thallmair, S.; Faustino, I.; Grünewald, F.; Patmanidis, I.; Abdizadeh, H.; Bruininks, B.M.H.;\\nWassenaar, T.A.; Kroon, P.C.; Melcr, J.; Nieto, V.; Corradi, V.; Khan, H.M.; Domański, J.; Javanainen, M.; Martinez-Seara, H.;\\nReuter, N.; Best, R.B.; Vattulainen, I.; Monticelli, L.; Periole, X.; Tieleman, D.P.; de Vries, A.H.; Marrink, S.J.;  Nature Methods\\n2021; 10.1038/s41592-021-01098-3', 'forcefield': 'martini3001', 'category': 'Lipids', 'version': ['1.0']}, '11': {'alias': 'DFPC', 'name': 'di-C16:3-C18:3 PC (DFPC)', 'citation': 'Souza, P.C.T.; Alessandri, R.; Barnoud, J.; Thallmair, S.; Faustino, I.; Grünewald, F.; Patmanidis, I.; Abdizadeh, H.; Bruininks, B.M.H.;\\nWassenaar, T.A.; Kroon, P.C.; Melcr, J.; Nieto, V.; Corradi, V.; Khan, H.M.; Domański, J.; Javanainen, M.; Martinez-Seara, H.;\\nReuter, N.; Best, R.B.; Vattulainen, I.; Monticelli, L.; Periole, X.; Tieleman, D.P.; de Vries, A.H.; Marrink, S.J.;  Nature Methods\\n2021; 10.1038/s41592-021-01098-3', 'forcefield': 'martini3001', 'category': 'Lipids', 'version': ['1.0']}, '12': {'alias': 'DFPE', 'name': 'di-C16:3-C18:3 PE (DFPE)', 'citation': 'Souza, P.C.T.; Alessandri, R.; Barnoud, J.; Thallmair, S.; Faustino, I.; Grünewald, F.; Patmanidis, I.; Abdizadeh, H.; Bruininks, B.M.H.;\\nWassenaar, T.A.; Kroon, P.C.; Melcr, J.; Nieto, V.; Corradi, V.; Khan, H.M.; Domański, J.; Javanainen, M.; Martinez-Seara, H.;\\nReuter, N.; Best, R.B.; Vattulainen, I.; Monticelli, L.; Periole, X.; Tieleman, D.P.; de Vries, A.H.; Marrink, S.J.;  Nature Methods\\n2021; 10.1038/s41592-021-01098-3', 'forcefield': 'martini3001', 'category': 'Lipids', 'version': ['1.0']}, '13': {'alias': 'DFPG', 'name': 'di-C16:3-C18:3 PG (DFPG)', 'citation': 'Souza, P.C.T.; Alessandri, R.; Barnoud, J.; Thallmair, S.; Faustino, I.; Grünewald, F.; Patmanidis, I.; Abdizadeh, H.; Bruininks, B.M.H.;\\nWassenaar, T.A.; Kroon, P.C.; Melcr, J.; Nieto, V.; Corradi, V.; Khan, H.M.; Domański, J.; Javanainen, M.; Martinez-Seara, H.;\\nReuter, N.; Best, R.B.; Vattulainen, I.; Monticelli, L.; Periole, X.; Tieleman, D.P.; de Vries, A.H.; Marrink, S.J.;  Nature Methods\\n2021; 10.1038/s41592-021-01098-3', 'forcefield': 'martini3001', 'category': 'Lipids', 'version': ['1.0']}, '14': {'alias': 'DFPS', 'name': 'di-C16:3-C18:3 PS (DFPS)', 'citation': 'Souza, P.C.T.; Alessandri, R.; Barnoud, J.; Thallmair, S.; Faustino, I.; Grünewald, F.; Patmanidis, I.; Abdizadeh, H.; Bruininks, B.M.H.;\\nWassenaar, T.A.; Kroon, P.C.; Melcr, J.; Nieto, V.; Corradi, V.; Khan, H.M.; Domański, J.; Javanainen, M.; Martinez-Seara, H.;\\nReuter, N.; Best, R.B.; Vattulainen, I.; Monticelli, L.; Periole, X.; Tieleman, D.P.; de Vries, A.H.; Marrink, S.J.;  Nature Methods\\n2021; 10.1038/s41592-021-01098-3', 'forcefield': 'martini3001', 'category': 'Lipids', 'version': ['1.0']}, '15': {'alias': 'DGPA', 'name': 'di-C20:1-C22:1 PA (DGPA)', 'citation': 'Souza, P.C.T.; Alessandri, R.; Barnoud, J.; Thallmair, S.; Faustino, I.; Grünewald, F.; Patmanidis, I.; Abdizadeh, H.; Bruininks, B.M.H.;\\nWassenaar, T.A.; Kroon, P.C.; Melcr, J.; Nieto, V.; Corradi, V.; Khan, H.M.; Domański, J.; Javanainen, M.; Martinez-Seara, H.;\\nReuter, N.; Best, R.B.; Vattulainen, I.; Monticelli, L.; Periole, X.; Tieleman, D.P.; de Vries, A.H.; Marrink, S.J.;  Nature Methods\\n2021; 10.1038/s41592-021-01098-3', 'forcefield': 'martini3001', 'category': 'Lipids', 'version': ['1.0']}, '16': {'alias': 'DGPC', 'name': 'di-C20:1-C22:1 PC (DGPC)', 'citation': 'Souza, P.C.T.; Alessandri, R.; Barnoud, J.; Thallmair, S.; Faustino, I.; Grünewald, F.; Patmanidis, I.; Abdizadeh, H.; Bruininks, B.M.H.;\\nWassenaar, T.A.; Kroon, P.C.; Melcr, J.; Nieto, V.; Corradi, V.; Khan, H.M.; Domański, J.; Javanainen, M.; Martinez-Seara, H.;\\nReuter, N.; Best, R.B.; Vattulainen, I.; Monticelli, L.; Periole, X.; Tieleman, D.P.; de Vries, A.H.; Marrink, S.J.;  Nature Methods\\n2021; 10.1038/s41592-021-01098-3', 'forcefield': 'martini3001', 'category': 'Lipids', 'version': ['1.0']}, '17': {'alias': 'DGPE', 'name': 'di-C20:1-C22:1 PE (DGPE)', 'citation': 'Souza, P.C.T.; Alessandri, R.; Barnoud, J.; Thallmair, S.; Faustino, I.; Grünewald, F.; Patmanidis, I.; Abdizadeh, H.; Bruininks, B.M.H.;\\nWassenaar, T.A.; Kroon, P.C.; Melcr, J.; Nieto, V.; Corradi, V.; Khan, H.M.; Domański, J.; Javanainen, M.; Martinez-Seara, H.;\\nReuter, N.; Best, R.B.; Vattulainen, I.; Monticelli, L.; Periole, X.; Tieleman, D.P.; de Vries, A.H.; Marrink, S.J.;  Nature Methods\\n2021; 10.1038/s41592-021-01098-3', 'forcefield': 'martini3001', 'category': 'Lipids', 'version': ['1.0']}, '18': {'alias': 'DGPG', 'name': 'di-C20:1-C22:1 PG (DGPG)', 'citation': 'Souza, P.C.T.; Alessandri, R.; Barnoud, J.; Thallmair, S.; Faustino, I.; Grünewald, F.; Patmanidis, I.; Abdizadeh, H.; Bruininks, B.M.H.;\\nWassenaar, T.A.; Kroon, P.C.; Melcr, J.; Nieto, V.; Corradi, V.; Khan, H.M.; Domański, J.; Javanainen, M.; Martinez-Seara, H.;\\nReuter, N.; Best, R.B.; Vattulainen, I.; Monticelli, L.; Periole, X.; Tieleman, D.P.; de Vries, A.H.; Marrink, S.J.;  Nature Methods\\n2021; 10.1038/s41592-021-01098-3', 'forcefield': 'martini3001', 'category': 'Lipids', 'version': ['1.0']}, '19': {'alias': 'DGPS', 'name': 'di-C20:1-C22:1 PS (DGPS)', 'citation': 'Souza, P.C.T.; Alessandri, R.; Barnoud, J.; Thallmair, S.; Faustino, I.; Grünewald, F.; Patmanidis, I.; Abdizadeh, H.; Bruininks, B.M.H.;\\nWassenaar, T.A.; Kroon, P.C.; Melcr, J.; Nieto, V.; Corradi, V.; Khan, H.M.; Domański, J.; Javanainen, M.; Martinez-Seara, H.;\\nReuter, N.; Best, R.B.; Vattulainen, I.; Monticelli, L.; Periole, X.; Tieleman, D.P.; de Vries, A.H.; Marrink, S.J.;  Nature Methods\\n2021; 10.1038/s41592-021-01098-3', 'forcefield': 'martini3001', 'category': 'Lipids', 'version': ['1.0']}, '20': {'alias': 'DIPA', 'name': 'di-C16:2-C18:2 PA (DIPA)', 'citation': 'Souza, P.C.T.; Alessandri, R.; Barnoud, J.; Thallmair, S.; Faustino, I.; Grünewald, F.; Patmanidis, I.; Abdizadeh, H.; Bruininks, B.M.H.;\\nWassenaar, T.A.; Kroon, P.C.; Melcr, J.; Nieto, V.; Corradi, V.; Khan, H.M.; Domański, J.; Javanainen, M.; Martinez-Seara, H.;\\nReuter, N.; Best, R.B.; Vattulainen, I.; Monticelli, L.; Periole, X.; Tieleman, D.P.; de Vries, A.H.; Marrink, S.J.;  Nature Methods\\n2021; 10.1038/s41592-021-01098-3', 'forcefield': 'martini3001', 'category': 'Lipids', 'version': ['1.0']}, '21': {'alias': 'DIPC', 'name': 'di-C16:2-C18:2 PC (DIPC)', 'citation': 'Souza, P.C.T.; Alessandri, R.; Barnoud, J.; Thallmair, S.; Faustino, I.; Grünewald, F.; Patmanidis, I.; Abdizadeh, H.; Bruininks, B.M.H.;\\nWassenaar, T.A.; Kroon, P.C.; Melcr, J.; Nieto, V.; Corradi, V.; Khan, H.M.; Domański, J.; Javanainen, M.; Martinez-Seara, H.;\\nReuter, N.; Best, R.B.; Vattulainen, I.; Monticelli, L.; Periole, X.; Tieleman, D.P.; de Vries, A.H.; Marrink, S.J.;  Nature Methods\\n2021; 10.1038/s41592-021-01098-3', 'forcefield': 'martini3001', 'category': 'Lipids', 'version': ['1.0']}, '22': {'alias': 'DIPE', 'name': 'di-C16:2-C18:2 PE (DIPE)', 'citation': 'Souza, P.C.T.; Alessandri, R.; Barnoud, J.; Thallmair, S.; Faustino, I.; Grünewald, F.; Patmanidis, I.; Abdizadeh, H.; Bruininks, B.M.H.;\\nWassenaar, T.A.; Kroon, P.C.; Melcr, J.; Nieto, V.; Corradi, V.; Khan, H.M.; Domański, J.; Javanainen, M.; Martinez-Seara, H.;\\nReuter, N.; Best, R.B.; Vattulainen, I.; Monticelli, L.; Periole, X.; Tieleman, D.P.; de Vries, A.H.; Marrink, S.J.;  Nature Methods\\n2021; 10.1038/s41592-021-01098-3', 'forcefield': 'martini3001', 'category': 'Lipids', 'version': ['1.0']}, '23': {'alias': 'DIPG', 'name': 'di-C16:2-C18:2 PG (DIPG)', 'citation': 'Souza, P.C.T.; Alessandri, R.; Barnoud, J.; Thallmair, S.; Faustino, I.; Grünewald, F.; Patmanidis, I.; Abdizadeh, H.; Bruininks, B.M.H.;\\nWassenaar, T.A.; Kroon, P.C.; Melcr, J.; Nieto, V.; Corradi, V.; Khan, H.M.; Domański, J.; Javanainen, M.; Martinez-Seara, H.;\\nReuter, N.; Best, R.B.; Vattulainen, I.; Monticelli, L.; Periole, X.; Tieleman, D.P.; de Vries, A.H.; Marrink, S.J.;  Nature Methods\\n2021; 10.1038/s41592-021-01098-3', 'forcefield': 'martini3001', 'category': 'Lipids', 'version': ['1.0']}, '24': {'alias': 'DIPS', 'name': 'di-C16:2-C18:2 PS (DIPS)', 'citation': 'Souza, P.C.T.; Alessandri, R.; Barnoud, J.; Thallmair, S.; Faustino, I.; Grünewald, F.; Patmanidis, I.; Abdizadeh, H.; Bruininks, B.M.H.;\\nWassenaar, T.A.; Kroon, P.C.; Melcr, J.; Nieto, V.; Corradi, V.; Khan, H.M.; Domański, J.; Javanainen, M.; Martinez-Seara, H.;\\nReuter, N.; Best, R.B.; Vattulainen, I.; Monticelli, L.; Periole, X.; Tieleman, D.P.; de Vries, A.H.; Marrink, S.J.;  Nature Methods\\n2021; 10.1038/s41592-021-01098-3', 'forcefield': 'martini3001', 'category': 'Lipids', 'version': ['1.0']}}\n"
     ]
    }
   ],
   "source": [
    "#Load a file\n",
    "import requests\n",
    "\n",
    "#get a list of melecule available in martini3001\n",
    "response = requests.get(\"https://mad-dev.ibcp.fr/api/molecule/get/martini3001\")\n",
    "\n",
    "if response.ok:\n",
    "    data_martini3 = response.json()\n",
    "    print( data_martini3)\n",
    "else:\n",
    "    print( \"error\")"
   ]
  },
  {
   "cell_type": "code",
   "execution_count": 4,
   "id": "079445f4",
   "metadata": {},
   "outputs": [
    {
     "name": "stdout",
     "output_type": "stream",
     "text": [
      "#0 molecule :di-C20:4-C22:5 PA (DAPA) ,version 1.0 alias : DAPA\n",
      "#1 molecule :di-C20:4-C22:5 PC (DAPC) ,version 1.0 alias : DAPC\n",
      "#2 molecule :di-C20:4-C22:5 PE (DAPE) ,version 1.0 alias : DAPE\n",
      "#3 molecule :di-C20:4-C22:5 PG (DAPG) ,version 1.0 alias : DAPG\n",
      "#4 molecule :di-C20:4-C22:5 PS (DAPS) ,version 1.0 alias : DAPS\n",
      "#5 molecule :di-C20:0-C22:0 PA (DBPA) ,version 1.0 alias : DBPA\n",
      "#6 molecule :di-C20:0-C22:0 PC (DBPC) ,version 1.0 alias : DBPC\n",
      "#7 molecule :di-C20:0-C22:0 PE (DBPE) ,version 1.0 alias : DBPE\n",
      "#8 molecule :di-C20:0-C22:0 PG (DBPG) ,version 1.0 alias : DBPG\n",
      "#9 molecule :di-C20:0-C22:0 PS (DBPS) ,version 1.0 alias : DBPS\n",
      "#10 molecule :di-C16:3-C18:3 PA (DFPA) ,version 1.0 alias : DFPA\n",
      "#11 molecule :di-C16:3-C18:3 PC (DFPC) ,version 1.0 alias : DFPC\n",
      "#12 molecule :di-C16:3-C18:3 PE (DFPE) ,version 1.0 alias : DFPE\n",
      "#13 molecule :di-C16:3-C18:3 PG (DFPG) ,version 1.0 alias : DFPG\n",
      "#14 molecule :di-C16:3-C18:3 PS (DFPS) ,version 1.0 alias : DFPS\n",
      "#15 molecule :di-C20:1-C22:1 PA (DGPA) ,version 1.0 alias : DGPA\n",
      "#16 molecule :di-C20:1-C22:1 PC (DGPC) ,version 1.0 alias : DGPC\n",
      "#17 molecule :di-C20:1-C22:1 PE (DGPE) ,version 1.0 alias : DGPE\n",
      "#18 molecule :di-C20:1-C22:1 PG (DGPG) ,version 1.0 alias : DGPG\n",
      "#19 molecule :di-C20:1-C22:1 PS (DGPS) ,version 1.0 alias : DGPS\n",
      "#20 molecule :di-C16:2-C18:2 PA (DIPA) ,version 1.0 alias : DIPA\n",
      "#21 molecule :di-C16:2-C18:2 PC (DIPC) ,version 1.0 alias : DIPC\n",
      "#22 molecule :di-C16:2-C18:2 PE (DIPE) ,version 1.0 alias : DIPE\n",
      "#23 molecule :di-C16:2-C18:2 PG (DIPG) ,version 1.0 alias : DIPG\n",
      "#24 molecule :di-C16:2-C18:2 PS (DIPS) ,version 1.0 alias : DIPS\n"
     ]
    }
   ],
   "source": [
    "#Let's take a random lipids with different version\n",
    "\n",
    "for i in data_martini3:\n",
    "    current_mol = data_martini3[i]\n",
    "    if (current_mol['category'] == 'Lipids') :\n",
    "        for v in current_mol['version']:\n",
    "            print(f'#{i} molecule :{ current_mol[\"name\"]} ,version {v}, alias : {current_mol[\"alias\"]}')"
   ]
  },
  {
   "cell_type": "code",
   "execution_count": 3,
   "id": "88a2371c",
   "metadata": {},
   "outputs": [
    {
     "name": "stdout",
     "output_type": "stream",
     "text": [
      ";;;;;; Martini lipid topology for di-C20:4-C22:5 PA (DAPA)\n",
      ";\n",
      "; Description:\n",
      ";   A general model phosphatidic acid (PA) lipid corresponding to atomistic e.g. C20:4(5c,8c,11c,14c) di-arachidonic acid (AA), \n",
      ";   - C22:5(4c,7c,10c,13c,16c) docosapentaenoic acid tails.\n",
      "; Parameterization:\n",
      ";   This topology follows the standard Martini 3 lipid definitions for building blocks.  Further optimization in the bonded parameters are currently on development.\n",
      ";\n",
      "; Reference(s):\n",
      "; Souza, P.C.T.; Alessandri, R.; Barnoud, J.; Thallmair, S.; Faustino, I.; Grünewald, F.; Patmanidis, I.; Abdizadeh, H.; Bruininks, B.M.H.; \n",
      "; Wassenaar, T.A.; Kroon, P.C.; Melcr, J.; Nieto, V.; Corradi, V.; Khan, H.M.; Domański, J.; Javanainen, M.; Martinez-Seara, H.; \n",
      "; Reuter, N.; Best, R.B.; Vattulainen, I.; Monticelli, L.; Periole, X.; Tieleman, D.P.; de Vries, A.H.; Marrink, S.J.;  Nature Methods \n",
      "; 2021; 10.1038/s41592-021-01098-3\n",
      ";\n",
      ";@INSANE alhead=O, allink=G G, altail=DDDDC DDDDC, alname=DAPA, charge=-1.0\n",
      ";@RESNTEST DAP==DAPA if: atoms[0]==PO4\n",
      ";@BEADS PO4 GL1 GL2 D1A D2A D3A D4A C4A D1B D2B D3B D4B C4B \n",
      ";@BONDS PO4-GL1 GL1-GL2 GL1-D1A D1A-D2A D2A-D3A D3A-D4A D4A-C4A GL2-D1B D1B-D2B D2B-D3B D3B-D4B D4B-C4B \n",
      ";\n",
      "\n",
      "; Command line\n",
      ";\t-o martini_v3.0_DAPA.itp -alname DAPA -alhead O -allink G G -altail DDDDC DDDDC\n",
      ";\n",
      "\n",
      "\n",
      "; Category\n",
      ";\tlipids\n",
      ";\n",
      "; Name\n",
      ";\t di-C20:4-C22:5 PA (DAPA)\n",
      ";\n",
      "; Alias\n",
      ";\tDAPA\n",
      ";\n",
      "; Force field\n",
      ";\tmartini3001\n",
      ";\n",
      "; Version\n",
      ";\t1.0\n",
      ";\n",
      "\n",
      "[moleculetype]\n",
      "; molname      nrexcl\n",
      "  DAPA          1\n",
      "\n",
      "[atoms]\n",
      "; id \ttype \tresnr \tresidu \tatom \tcgnr \tcharge\n",
      "   1 \tQ5 \t 1 \tDAPA \tPO4 \t 1 \t-1.0 \t\n",
      "   2 \tSN4a\t 1 \tDAPA \tGL1 \t 2 \t0 \t\n",
      "   3 \tN4a\t 1 \tDAPA \tGL2 \t 3 \t0 \t\n",
      "   4 \tC4h\t 1 \tDAPA \tD1A \t 4 \t0 \t\n",
      "   5 \tC4h\t 1 \tDAPA \tD2A \t 5 \t0 \t\n",
      "   6 \tC4h\t 1 \tDAPA \tD3A \t 6 \t0 \t\n",
      "   7 \tC4h\t 1 \tDAPA \tD4A \t 7 \t0 \t\n",
      "   8 \tC1 \t 1 \tDAPA \tC4A \t 8 \t0 \t\n",
      "   9 \tC4h\t 1 \tDAPA \tD1B \t 9 \t0 \t\n",
      "  10 \tC4h\t 1 \tDAPA \tD2B \t10 \t0 \t\n",
      "  11 \tC4h\t 1 \tDAPA \tD3B \t11 \t0 \t\n",
      "  12 \tC4h\t 1 \tDAPA \tD4B \t12 \t0 \t\n",
      "  13 \tC1 \t 1 \tDAPA \tC4B \t13 \t0 \t\n",
      "\n",
      "[bonds]\n",
      ";  i  j \tfunct \tlength \tforce.c.\n",
      "   1  2 \t1 \t0.42 \t1350 \t\n",
      "   2  3 \t1 \t0.312\t2500 \t\n",
      "   2  4 \t1 \t0.47 \t5000 \t\n",
      "   4  5 \t1 \t0.47 \t3800 \t\n",
      "   5  6 \t1 \t0.47 \t3800 \t\n",
      "   6  7 \t1 \t0.47 \t3800 \t\n",
      "   7  8 \t1 \t0.47 \t3800 \t\n",
      "   3  9 \t1 \t0.47 \t3600 \t\n",
      "   9 10 \t1 \t0.47 \t3800 \t\n",
      "  10 11 \t1 \t0.47 \t3800 \t\n",
      "  11 12 \t1 \t0.47 \t3800 \t\n",
      "  12 13 \t1 \t0.47 \t3800 \t\n",
      "\n",
      "[angles]\n",
      ";  i  j  k \tfunct \tangle \tforce.c.\n",
      "   1  2  3 \t2 \t108.0 \t21.5 \t\n",
      "   1  2  4 \t2 \t139.1   31.2 \t\n",
      "   2  4  5 \t2 \t100.0 \t10.0 \t\n",
      "   4  5  6 \t2 \t100.0 \t10.0 \t\n",
      "   5  6  7 \t2 \t100.0 \t10.0 \t\n",
      "   6  7  8 \t2 \t120.0 \t35.0 \t\n",
      "   3  9 10 \t2 \t100.0 \t10.0 \t\n",
      "   9 10 11 \t2 \t100.0 \t10.0 \t\n",
      "  10 11 12 \t2 \t100.0 \t10.0 \t\n",
      "  11 12 13 \t2 \t120.0 \t35.0 \t\n",
      "\n",
      " \n",
      "\n"
     ]
    }
   ],
   "source": [
    "#get topology of a molecule, DAPA for instance\n",
    "# add \"/DAPA.itp\" to url\n",
    "\n",
    "response = requests.get(\"https://mad-dev.ibcp.fr/api/molecule/get/martini3001/DAPA.itp\")\n",
    "\n",
    "if response.ok:\n",
    "    mol = response.text\n",
    "    print( mol)\n",
    "else:\n",
    "    print( \"error\")"
   ]
  },
  {
   "cell_type": "code",
   "execution_count": null,
   "id": "2e155363",
   "metadata": {},
   "outputs": [],
   "source": []
  },
  {
   "cell_type": "code",
   "execution_count": null,
   "id": "7d5e3cdc",
   "metadata": {},
   "outputs": [],
   "source": []
  }
 ],
 "metadata": {
  "kernelspec": {
   "display_name": "Python 3 (ipykernel)",
   "language": "python",
   "name": "python3"
  },
  "language_info": {
   "codemirror_mode": {
    "name": "ipython",
    "version": 3
   },
   "file_extension": ".py",
   "mimetype": "text/x-python",
   "name": "python",
   "nbconvert_exporter": "python",
   "pygments_lexer": "ipython3",
   "version": "3.9.12"
  }
 },
 "nbformat": 4,
 "nbformat_minor": 5
}
